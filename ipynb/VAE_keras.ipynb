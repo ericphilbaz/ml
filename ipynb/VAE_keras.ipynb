{
 "cells": [
  {
   "cell_type": "code",
   "execution_count": 1,
   "metadata": {},
   "outputs": [
    {
     "name": "stderr",
     "output_type": "stream",
     "text": [
      "Using TensorFlow backend.\n"
     ]
    }
   ],
   "source": [
    "# -*- coding:utf-8 -*-\n",
    "import numpy as np\n",
    "import pandas as pd\n",
    "from keras.layers import *\n",
    "from keras import backend as K\n",
    "from keras.models import Model\n",
    "import imageio,os\n",
    "from keras.datasets import mnist\n",
    "from keras.utils.vis_utils import plot_model\n",
    "import matplotlib.pyplot as plt\n",
    "from keras.models import Sequential\n",
    "import pywt\n",
    "\n",
    "%matplotlib inline"
   ]
  },
  {
   "cell_type": "code",
   "execution_count": 2,
   "metadata": {},
   "outputs": [],
   "source": [
    "batch_size=100\n",
    "latent_dim=10\n",
    "epochs=5\n",
    "num_classes=10\n",
    "img_dim=28\n",
    "filters=16\n",
    "intermediate_dim=256\n",
    "\n",
    "BatchNorm = True  # 是否批量归一化\n",
    "number = 3000  # 每类样本的数量  1000:0.32,  10000:0.68,  20000:0.7105   30000:81\n",
    "length =6400   # 信号长度  16384=128*128\n",
    "normal = False  # 是否标准化\n",
    "enc=True     #256000/6400=40  小于3000，所以要做数据增强\n",
    "enc_step=500\n",
    "rate = [0.8, 0.1, 0.1]  # 训练集验证集测试集划分比例,之和为1"
   ]
  },
  {
   "cell_type": "code",
   "execution_count": 12,
   "metadata": {},
   "outputs": [
    {
     "data": {
      "text/plain": [
       "array([[[ 2.87390052e-01,  1.31929260e-01,  4.03487884e-03, ...,\n",
       "         -4.46530455e-02,  1.73153035e-01,  3.53758163e-01],\n",
       "        [-2.50287650e-01, -3.34760777e-01, -3.66257926e-01, ...,\n",
       "         -3.54357103e-01, -3.48543772e-01,  2.20779644e-01],\n",
       "        [-1.70730264e-01, -1.67021170e-01,  1.25644519e-01, ...,\n",
       "          3.05195135e-01, -1.39077269e-01,  1.91880501e-01],\n",
       "        ...,\n",
       "        [ 9.74367600e-01,  3.91415407e-01,  3.58067202e+00, ...,\n",
       "          3.88795892e-01, -6.28241285e-02,  3.53436582e-01],\n",
       "        [-3.35462739e-01,  4.14124840e-01,  2.47490806e-01, ...,\n",
       "         -2.49097091e-01,  5.54905144e-01, -2.00582212e-01],\n",
       "        [ 1.45483618e-01,  5.03346975e-01,  2.36521009e-01, ...,\n",
       "         -6.11545957e-01, -2.88709381e-01,  5.21026667e-01]],\n",
       "\n",
       "       [[-8.83390133e-02, -1.52817191e-01,  1.85012261e-02, ...,\n",
       "          3.69499095e-03,  3.08133197e-02,  1.21822408e-01],\n",
       "        [-1.22209125e-01,  1.89755365e-04, -6.10989451e-02, ...,\n",
       "          1.18404354e-02,  3.58262112e-01, -3.06630631e-01],\n",
       "        [-2.23145477e-01,  6.04952219e-02,  1.62133279e-01, ...,\n",
       "          2.14367700e-01,  2.31995476e-01,  2.96059840e-01],\n",
       "        ...,\n",
       "        [-1.85904086e+00, -2.58756074e+00,  2.97520108e-01, ...,\n",
       "         -9.99049224e-02,  9.44906863e-03, -3.56253183e-02],\n",
       "        [-1.86260426e-01, -3.81806832e-02,  7.82061933e-02, ...,\n",
       "          7.86431310e-01,  2.33968882e-01, -2.56283556e-01],\n",
       "        [ 3.79140006e-01,  9.23980134e-02, -5.93383287e-02, ...,\n",
       "         -5.29883920e-02,  1.34787733e-01,  2.57490558e-02]]])"
      ]
     },
     "execution_count": 12,
     "metadata": {},
     "output_type": "execute_result"
    }
   ],
   "source": [
    "a=np.load('./data_set/test_x.npy')\n",
    "a"
   ]
  },
  {
   "cell_type": "markdown",
   "metadata": {},
   "source": [
    "\n",
    "## 1 加载据集"
   ]
  },
  {
   "cell_type": "code",
   "execution_count": 2,
   "metadata": {},
   "outputs": [
    {
     "ename": "NameError",
     "evalue": "name 'img_dim' is not defined",
     "output_type": "error",
     "traceback": [
      "\u001b[1;31m---------------------------------------------------------------------------\u001b[0m",
      "\u001b[1;31mNameError\u001b[0m                                 Traceback (most recent call last)",
      "\u001b[1;32m<ipython-input-2-7da9e8679306>\u001b[0m in \u001b[0;36m<module>\u001b[1;34m\u001b[0m\n\u001b[0;32m      2\u001b[0m \u001b[0mx_train\u001b[0m \u001b[1;33m=\u001b[0m \u001b[0mx_train\u001b[0m\u001b[1;33m.\u001b[0m\u001b[0mastype\u001b[0m\u001b[1;33m(\u001b[0m\u001b[1;34m'float32'\u001b[0m\u001b[1;33m)\u001b[0m \u001b[1;33m/\u001b[0m \u001b[1;36m255.\u001b[0m\u001b[1;33m\u001b[0m\u001b[1;33m\u001b[0m\u001b[0m\n\u001b[0;32m      3\u001b[0m \u001b[0mx_test\u001b[0m \u001b[1;33m=\u001b[0m \u001b[0mx_test\u001b[0m\u001b[1;33m.\u001b[0m\u001b[0mastype\u001b[0m\u001b[1;33m(\u001b[0m\u001b[1;34m'float32'\u001b[0m\u001b[1;33m)\u001b[0m \u001b[1;33m/\u001b[0m \u001b[1;36m255.\u001b[0m\u001b[1;33m\u001b[0m\u001b[1;33m\u001b[0m\u001b[0m\n\u001b[1;32m----> 4\u001b[1;33m \u001b[0mx_train\u001b[0m \u001b[1;33m=\u001b[0m \u001b[0mx_train\u001b[0m\u001b[1;33m.\u001b[0m\u001b[0mreshape\u001b[0m\u001b[1;33m(\u001b[0m\u001b[1;33m(\u001b[0m\u001b[1;33m-\u001b[0m\u001b[1;36m1\u001b[0m\u001b[1;33m,\u001b[0m \u001b[0mimg_dim\u001b[0m\u001b[1;33m,\u001b[0m \u001b[0mimg_dim\u001b[0m\u001b[1;33m,\u001b[0m \u001b[1;36m1\u001b[0m\u001b[1;33m)\u001b[0m\u001b[1;33m)\u001b[0m\u001b[1;33m\u001b[0m\u001b[1;33m\u001b[0m\u001b[0m\n\u001b[0m\u001b[0;32m      5\u001b[0m \u001b[0mx_test\u001b[0m \u001b[1;33m=\u001b[0m \u001b[0mx_test\u001b[0m\u001b[1;33m.\u001b[0m\u001b[0mreshape\u001b[0m\u001b[1;33m(\u001b[0m\u001b[1;33m(\u001b[0m\u001b[1;33m-\u001b[0m\u001b[1;36m1\u001b[0m\u001b[1;33m,\u001b[0m \u001b[0mimg_dim\u001b[0m\u001b[1;33m,\u001b[0m \u001b[0mimg_dim\u001b[0m\u001b[1;33m,\u001b[0m \u001b[1;36m1\u001b[0m\u001b[1;33m)\u001b[0m\u001b[1;33m)\u001b[0m\u001b[1;33m\u001b[0m\u001b[1;33m\u001b[0m\u001b[0m\n\u001b[0;32m      6\u001b[0m \u001b[0mprint\u001b[0m\u001b[1;33m(\u001b[0m\u001b[0mx_train\u001b[0m\u001b[1;33m.\u001b[0m\u001b[0mshape\u001b[0m\u001b[1;33m)\u001b[0m\u001b[1;33m\u001b[0m\u001b[1;33m\u001b[0m\u001b[0m\n",
      "\u001b[1;31mNameError\u001b[0m: name 'img_dim' is not defined"
     ]
    }
   ],
   "source": [
    "(x_train, y_train_), (x_test, y_test_) = mnist.load_data()\n",
    "x_train = x_train.astype('float32') / 255.\n",
    "x_test = x_test.astype('float32') / 255.\n",
    "x_train = x_train.reshape((-1, img_dim, img_dim, 1))\n",
    "x_test = x_test.reshape((-1, img_dim, img_dim, 1))\n",
    "print(x_train.shape)\n",
    "print(y_train_.shape)\n",
    "print(x_test.shape)\n",
    "y_train_"
   ]
  },
  {
   "cell_type": "markdown",
   "metadata": {},
   "source": [
    "### 1.1加载振动信号"
   ]
  },
  {
   "cell_type": "code",
   "execution_count": 3,
   "metadata": {},
   "outputs": [
    {
     "name": "stdout",
     "output_type": "stream",
     "text": [
      "train_path: F:\\paderborn dataset\\start_data\\training_dataset\\N09_M07_F10\\all\n",
      "test_path: F:\\paderborn dataset\\start_data\\training_dataset\\N09_M07_F10\\all\n"
     ]
    },
    {
     "name": "stderr",
     "output_type": "stream",
     "text": [
      "D:\\app\\anaconda20183\\lib\\site-packages\\sklearn\\preprocessing\\_encoders.py:368: FutureWarning: The handling of integer data will change in version 0.22. Currently, the categories are determined based on the range [0, max(values)], while in the future they will be determined based on the unique values.\n",
      "If you want the future behaviour and silence this warning, you can specify \"categories='auto'\".\n",
      "In case you used a LabelEncoder before this OneHotEncoder to convert the categories to integers, then you can now use the OneHotEncoder directly.\n",
      "  warnings.warn(msg, FutureWarning)\n",
      "D:\\app\\anaconda20183\\lib\\site-packages\\sklearn\\preprocessing\\_encoders.py:368: FutureWarning: The handling of integer data will change in version 0.22. Currently, the categories are determined based on the range [0, max(values)], while in the future they will be determined based on the unique values.\n",
      "If you want the future behaviour and silence this warning, you can specify \"categories='auto'\".\n",
      "In case you used a LabelEncoder before this OneHotEncoder to convert the categories to integers, then you can now use the OneHotEncoder directly.\n",
      "  warnings.warn(msg, FutureWarning)\n"
     ]
    },
    {
     "name": "stdout",
     "output_type": "stream",
     "text": [
      "\\\\\\\\\\\\\\\\\\\\\\\\\\\\\\\\\\\\\\\\ train_one-hot \\\\\\\\\\\\\\\\\\\\\\\\\\\\\\\\\\\\\\\\\n",
      "\\\\\\\\\\\\\\\\\\\\\\\\\\\\\\\\\\\\\\\\ test_one-hot \\\\\\\\\\\\\\\\\\\\\\\\\\\\\\\\\\\\\\\\\n"
     ]
    },
    {
     "ename": "ValueError",
     "evalue": "cannot copy sequence with size 6400 to array axis with dimension 2",
     "output_type": "error",
     "traceback": [
      "\u001b[1;31m---------------------------------------------------------------------------\u001b[0m",
      "\u001b[1;31mValueError\u001b[0m                                Traceback (most recent call last)",
      "\u001b[1;32m<ipython-input-3-5ddc88c65b98>\u001b[0m in \u001b[0;36m<module>\u001b[1;34m\u001b[0m\n\u001b[0;32m      1\u001b[0m \u001b[0mpath_training\u001b[0m \u001b[1;33m=\u001b[0m \u001b[1;34mr\"F:\\paderborn dataset\\start_data\\training_dataset\\N09_M07_F10\\all\"\u001b[0m\u001b[1;33m\u001b[0m\u001b[1;33m\u001b[0m\u001b[0m\n\u001b[0;32m      2\u001b[0m \u001b[0mpath_testing\u001b[0m \u001b[1;33m=\u001b[0m \u001b[1;34mr\"F:\\paderborn dataset\\start_data\\training_dataset\\N09_M07_F10\\all\"\u001b[0m\u001b[1;33m\u001b[0m\u001b[1;33m\u001b[0m\u001b[0m\n\u001b[1;32m----> 3\u001b[1;33m \u001b[0mx_train1\u001b[0m\u001b[1;33m,\u001b[0m \u001b[0my_train1\u001b[0m\u001b[1;33m,\u001b[0m \u001b[0mx_valid1\u001b[0m\u001b[1;33m,\u001b[0m \u001b[0my_valid1\u001b[0m\u001b[1;33m,\u001b[0m \u001b[0mx_test1\u001b[0m\u001b[1;33m,\u001b[0m \u001b[0my_test1\u001b[0m\u001b[1;33m=\u001b[0m\u001b[0mpreprocess\u001b[0m\u001b[1;33m.\u001b[0m\u001b[0mprepro\u001b[0m\u001b[1;33m(\u001b[0m\u001b[0md_path\u001b[0m\u001b[1;33m=\u001b[0m\u001b[0mpath_training\u001b[0m\u001b[1;33m,\u001b[0m\u001b[0md_path1\u001b[0m\u001b[1;33m=\u001b[0m\u001b[0mpath_testing\u001b[0m\u001b[1;33m,\u001b[0m \u001b[0mlength\u001b[0m\u001b[1;33m=\u001b[0m\u001b[0mlength\u001b[0m\u001b[1;33m,\u001b[0m\u001b[0mnumber\u001b[0m\u001b[1;33m=\u001b[0m\u001b[0mnumber\u001b[0m\u001b[1;33m,\u001b[0m\u001b[0mnormal\u001b[0m\u001b[1;33m=\u001b[0m\u001b[0mnormal\u001b[0m\u001b[1;33m,\u001b[0m\u001b[0mrate\u001b[0m\u001b[1;33m=\u001b[0m\u001b[0mrate\u001b[0m\u001b[1;33m,\u001b[0m\u001b[0menc\u001b[0m\u001b[1;33m=\u001b[0m\u001b[0menc\u001b[0m\u001b[1;33m,\u001b[0m \u001b[0menc_step\u001b[0m\u001b[1;33m=\u001b[0m\u001b[0menc_step\u001b[0m\u001b[1;33m)\u001b[0m\u001b[1;33m\u001b[0m\u001b[1;33m\u001b[0m\u001b[0m\n\u001b[0m\u001b[0;32m      4\u001b[0m \u001b[0mprint\u001b[0m\u001b[1;33m(\u001b[0m\u001b[0mx_train1\u001b[0m\u001b[1;33m.\u001b[0m\u001b[0mshape\u001b[0m\u001b[1;33m)\u001b[0m\u001b[1;33m\u001b[0m\u001b[1;33m\u001b[0m\u001b[0m\n",
      "\u001b[1;32mF:\\CODE_TRUE\\ipynb\\preprocess.py\u001b[0m in \u001b[0;36mprepro\u001b[1;34m(d_path, d_path1, length, number, normal, rate, enc, enc_step)\u001b[0m\n\u001b[0;32m    265\u001b[0m     \u001b[1;32melse\u001b[0m\u001b[1;33m:\u001b[0m\u001b[1;33m\u001b[0m\u001b[1;33m\u001b[0m\u001b[0m\n\u001b[0;32m    266\u001b[0m         \u001b[1;31m# 需要做一个数据转换，转换成np格式.\u001b[0m\u001b[1;33m\u001b[0m\u001b[1;33m\u001b[0m\u001b[1;33m\u001b[0m\u001b[0m\n\u001b[1;32m--> 267\u001b[1;33m         \u001b[0mTrain_X\u001b[0m \u001b[1;33m=\u001b[0m \u001b[0mnp\u001b[0m\u001b[1;33m.\u001b[0m\u001b[0masarray\u001b[0m\u001b[1;33m(\u001b[0m\u001b[0mTrain_X\u001b[0m\u001b[1;33m)\u001b[0m\u001b[1;33m\u001b[0m\u001b[1;33m\u001b[0m\u001b[0m\n\u001b[0m\u001b[0;32m    268\u001b[0m         \u001b[0mTest_X\u001b[0m \u001b[1;33m=\u001b[0m \u001b[0mnp\u001b[0m\u001b[1;33m.\u001b[0m\u001b[0masarray\u001b[0m\u001b[1;33m(\u001b[0m\u001b[0mTest_X\u001b[0m\u001b[1;33m)\u001b[0m\u001b[1;33m\u001b[0m\u001b[1;33m\u001b[0m\u001b[0m\n\u001b[0;32m    269\u001b[0m         \u001b[1;31m# Train_X_OUT = np.asarray(Train_X_OUT)\u001b[0m\u001b[1;33m\u001b[0m\u001b[1;33m\u001b[0m\u001b[1;33m\u001b[0m\u001b[0m\n",
      "\u001b[1;32mD:\\app\\anaconda20183\\lib\\site-packages\\numpy\\core\\numeric.py\u001b[0m in \u001b[0;36masarray\u001b[1;34m(a, dtype, order)\u001b[0m\n\u001b[0;32m    499\u001b[0m \u001b[1;33m\u001b[0m\u001b[0m\n\u001b[0;32m    500\u001b[0m     \"\"\"\n\u001b[1;32m--> 501\u001b[1;33m     \u001b[1;32mreturn\u001b[0m \u001b[0marray\u001b[0m\u001b[1;33m(\u001b[0m\u001b[0ma\u001b[0m\u001b[1;33m,\u001b[0m \u001b[0mdtype\u001b[0m\u001b[1;33m,\u001b[0m \u001b[0mcopy\u001b[0m\u001b[1;33m=\u001b[0m\u001b[1;32mFalse\u001b[0m\u001b[1;33m,\u001b[0m \u001b[0morder\u001b[0m\u001b[1;33m=\u001b[0m\u001b[0morder\u001b[0m\u001b[1;33m)\u001b[0m\u001b[1;33m\u001b[0m\u001b[1;33m\u001b[0m\u001b[0m\n\u001b[0m\u001b[0;32m    502\u001b[0m \u001b[1;33m\u001b[0m\u001b[0m\n\u001b[0;32m    503\u001b[0m \u001b[1;33m\u001b[0m\u001b[0m\n",
      "\u001b[1;31mValueError\u001b[0m: cannot copy sequence with size 6400 to array axis with dimension 2"
     ]
    }
   ],
   "source": [
    "path_training = r\"F:\\paderborn dataset\\start_data\\training_dataset\\N09_M07_F10\\all\"\n",
    "path_testing = r\"F:\\paderborn dataset\\start_data\\training_dataset\\N09_M07_F10\\all\"\n",
    "x_train1, y_train1, x_valid1, y_valid1, x_test1, y_test1=preprocess.prepro(d_path=path_training,d_path1=path_testing, length=length,number=number,normal=normal,rate=rate,enc=enc, enc_step=enc_step)\n",
    "print(x_train1.shape)"
   ]
  },
  {
   "cell_type": "markdown",
   "metadata": {},
   "source": [
    "## 定义小波函数"
   ]
  },
  {
   "cell_type": "code",
   "execution_count": 27,
   "metadata": {},
   "outputs": [],
   "source": [
    "def wt_f(data,wavelet='db2',mode='symmetric',maxlevel=3):\n",
    "    wp_out=pywt.WaveletPacket(data,wavelet,mode,maxlevel)\n",
    "    a=wp_out['a'].data\n",
    "    b=wp_out['d'].data\n",
    "    return wp_out"
   ]
  },
  {
   "cell_type": "code",
   "execution_count": 38,
   "metadata": {},
   "outputs": [
    {
     "name": "stdout",
     "output_type": "stream",
     "text": [
      "(16800, 6400, 1)\n"
     ]
    },
    {
     "data": {
      "text/plain": [
       "(6400, 1)"
      ]
     },
     "execution_count": 38,
     "metadata": {},
     "output_type": "execute_result"
    }
   ],
   "source": [
    "# x=x_train1[1,:]\n",
    "x_train, x_valid, x_test = x_train1[:, :, np.newaxis], x_valid1[:, :, np.newaxis], x_test1[:, :, np.newaxis]\n",
    "# 输入数据的维度  input_shape是静态的\n",
    "input_shape = x_train.shape[1:]\n",
    "print(x_train.shape)\n",
    "input_shape"
   ]
  },
  {
   "cell_type": "code",
   "execution_count": 29,
   "metadata": {},
   "outputs": [
    {
     "data": {
      "text/plain": [
       "(6400, 1)"
      ]
     },
     "execution_count": 29,
     "metadata": {},
     "output_type": "execute_result"
    }
   ],
   "source": [
    "input_shape"
   ]
  },
  {
   "cell_type": "code",
   "execution_count": 22,
   "metadata": {},
   "outputs": [
    {
     "name": "stdout",
     "output_type": "stream",
     "text": [
      "(3201,)\n",
      "(3201,)\n",
      "(802,)\n",
      "**************************************************\n",
      "(1602,)\n",
      "(6402,)\n"
     ]
    },
    {
     "data": {
      "image/png": "[encoded data removed]",
      "text/plain": [
       "<Figure size 432x288 with 1 Axes>"
      ]
     },
     "metadata": {
      "needs_background": "light"
     },
     "output_type": "display_data"
    }
   ],
   "source": [
    "# X=plot_data.reshape(len(plot_data),).tolist()\n",
    "wp=wt_f(data=x,wavelet='db2',mode='symmetric',maxlevel=3)\n",
    "print(wp['a'].data.shape)     \n",
    "print(wp['d'].data.shape)  \n",
    "\n",
    "wp_1=wt_f(data=wp['a'].data,wavelet='db2',mode='symmetric',maxlevel=3)\n",
    "print(wp_1['aa'].data.shape)\n",
    "print('*'*50)\n",
    "\n",
    "new_wp = pywt.WaveletPacket(data=None, wavelet='db2', mode='symmetric')\n",
    "new_wp['aa'] = wp['aa']#低频信号\n",
    "print(wp['aa'].data.shape)     \n",
    "new_wp['ad'] = wp['ad']#高频信号0.0\n",
    "new_wp['da'] = wp['da']#低频信号\n",
    "new_wp['dd'] = wp['dd']#高频信号\n",
    "a=new_wp.reconstruct(update=True)\n",
    "print(a.shape)\n",
    "plt.plot(range(len(a)),a)\n",
    "plt.show()"
   ]
  },
  {
   "cell_type": "code",
   "execution_count": 5,
   "metadata": {},
   "outputs": [],
   "source": [
    "# img_dim1=80\n",
    "# print(x_train1.shape)\n",
    "# print(x_test1.shape)\n",
    "# print(x_valid1.shape)\n",
    "# print(y_train1)\n",
    "# print('*'*50)\n",
    "# x_train = x_train1.reshape((-1, img_dim1, img_dim1, 1))\n",
    "# x_valid = x_valid1.reshape((-1, img_dim1, img_dim1, 1))\n",
    "# x_test = x_test1.reshape((-1, img_dim1, img_dim1, 1))\n",
    "# print(x_train.shape)\n",
    "# print(x_test.shape)\n",
    "# print(x_valid.shape)"
   ]
  },
  {
   "cell_type": "markdown",
   "metadata": {},
   "source": [
    "## 卷积（编码器）"
   ]
  },
  {
   "cell_type": "code",
   "execution_count": 6,
   "metadata": {},
   "outputs": [
    {
     "name": "stdout",
     "output_type": "stream",
     "text": [
      "WARNING:tensorflow:From D:\\app\\anaconda20183\\lib\\site-packages\\tensorflow\\python\\framework\\op_def_library.py:263: colocate_with (from tensorflow.python.framework.ops) is deprecated and will be removed in a future version.\n",
      "Instructions for updating:\n",
      "Colocations handled automatically by placer.\n"
     ]
    }
   ],
   "source": [
    "# model=Sequential()\n",
    "# model.add(Conv2DTranspose(filters=filters,kernel_size=3,strides=1,padding='same'))\n",
    "# model.add(MaxPooling2D(pool_size=2))\n",
    "# model.add(LeakyReLU(0.2))\n",
    "\n",
    "# model.add(Conv2DTranspose(filters=filters,kernel_size=3,strides=1,padding='same'))\n",
    "# model.add(MaxPooling2D(pool_size=2))\n",
    "# model.add(LeakyReLU(0.2))\n",
    "x=Input(shape=(img_dim,img_dim,1))\n",
    "h=x\n",
    "filters*=2\n",
    "h=Conv2DTranspose(filters=filters,kernel_size=3,strides=2,padding='same')(h)\n",
    "h=MaxPooling2D(pool_size=2)(h)\n",
    "h=ELU(0.2)(h)\n",
    "h=Conv2DTranspose(filters=filters,kernel_size=3,strides=1,padding='same')(h)\n",
    "h=MaxPooling2D(pool_size=2)(h)\n",
    "h=ELU(0.2)(h)\n",
    "filters //= 2\n",
    "h=Conv2DTranspose(filters=filters,kernel_size=3,strides=2,padding='same')(h)\n",
    "h=MaxPooling2D(pool_size=2)(h)\n",
    "h=ELU(0.2)(h)\n",
    "h=Conv2DTranspose(filters=filters,kernel_size=3,strides=1,padding='same')(h)\n",
    "h=MaxPooling2D(pool_size=2)(h)\n",
    "h=ELU(0.2)(h)"
   ]
  },
  {
   "cell_type": "markdown",
   "metadata": {},
   "source": [
    "## 特征拾取"
   ]
  },
  {
   "cell_type": "code",
   "execution_count": 7,
   "metadata": {},
   "outputs": [],
   "source": [
    "h4=h\n",
    "h = ELU(0.2)(h4)\n",
    "h_shape = K.int_shape(h)[1:]\n",
    "h = Flatten()(h)\n",
    "z_mean = Dense(latent_dim)(h) # p(z|x)的均值\n",
    "z_log_var = Dense(latent_dim)(h) # p(z|x)的方差\n",
    "encoder = Model(x, z_mean) # 通常认为z_mean就是所需的隐变量编码\n",
    "z = Input(shape=(latent_dim,))\n",
    "h = z\n",
    "h = Dense(np.prod(h_shape))(h)\n",
    "h = Reshape(h_shape)(h)"
   ]
  },
  {
   "cell_type": "markdown",
   "metadata": {},
   "source": [
    "## 反卷积（解码器）"
   ]
  },
  {
   "cell_type": "code",
   "execution_count": 8,
   "metadata": {},
   "outputs": [],
   "source": [
    "filters=16\n",
    "filters*=2\n",
    "h = Conv2DTranspose(filters=filters,kernel_size=3,strides=1,padding='same')(h)\n",
    "#     h=MaxPooling2D(pool_size=2)(h)\n",
    "h = ELU(0.2)(h)\n",
    "h = Conv2DTranspose(filters=filters,kernel_size=3,strides=2,padding='same')(h)\n",
    "#     h=MaxPooling2D(pool_size=2)(h)\n",
    "h = ELU(0.2)(h)\n",
    "filters //= 2\n",
    "h = Conv2DTranspose(filters=filters,kernel_size=3,strides=1,padding='same')(h)\n",
    "#     h=MaxPooling2D(pool_size=2)(h)\n",
    "h = ELU(0.2)(h)\n",
    "h = Conv2DTranspose(filters=filters,kernel_size=3,strides=2,padding='same')(h)\n",
    "#     h=MaxPooling2D(pool_size=2)(h)\n",
    "h = ELU(0.2)(h)\n"
   ]
  },
  {
   "cell_type": "code",
   "execution_count": 9,
   "metadata": {},
   "outputs": [],
   "source": [
    "x_recon = Conv2DTranspose(filters=1,kernel_size=3,activation='sigmoid',padding='same')(h)\n",
    "decoder = Model(z, x_recon) # 解码器\n",
    "generator = decoder\n",
    "\n",
    "z = Input(shape=(latent_dim,))\n",
    "y = Dense(intermediate_dim, activation='relu')(z)\n",
    "y = Dense(num_classes, activation='softmax')(y)\n",
    "classfier = Model(z, y) # 隐变量分类器"
   ]
  },
  {
   "cell_type": "markdown",
   "metadata": {},
   "source": [
    "## 重参数技巧"
   ]
  },
  {
   "cell_type": "code",
   "execution_count": 10,
   "metadata": {},
   "outputs": [],
   "source": [
    "def sampling(args):\n",
    "    z_mean, z_log_var = args\n",
    "    epsilon = K.random_normal(shape=(K.shape(z_mean)[0], latent_dim))\n",
    "    return z_mean + K.exp(z_log_var / 2) * epsilon\n",
    "\n",
    "# 重参数层，相当于给输入加入噪声\n",
    "z = Lambda(sampling, output_shape=(latent_dim,))([z_mean, z_log_var])\n",
    "x_recon = decoder(z)\n",
    "y = classfier(z)"
   ]
  },
  {
   "cell_type": "code",
   "execution_count": 11,
   "metadata": {},
   "outputs": [],
   "source": [
    "class Gaussian(Layer):\n",
    "    \"\"\"这是个简单的层，定义q(z|y)中的均值参数，每个类别配一个均值。\n",
    "    然后输出“z - 均值”，为后面计算loss准备。\n",
    "    \"\"\"\n",
    "    def __init__(self, num_classes, **kwargs):\n",
    "        self.num_classes = num_classes\n",
    "        super(Gaussian, self).__init__(**kwargs)\n",
    "    def build(self, input_shape):\n",
    "        latent_dim = input_shape[-1]\n",
    "        self.mean = self.add_weight(name='mean',shape=(self.num_classes, latent_dim),initializer='zeros')\n",
    "    def call(self, inputs):\n",
    "        z = inputs # z.shape=(batch_size, latent_dim)\n",
    "        z = K.expand_dims(z, 1)\n",
    "        return z - K.expand_dims(self.mean, 0)\n",
    "    def compute_output_shape(self, input_shape):\n",
    "        return (None, self.num_classes, input_shape[-1])"
   ]
  },
  {
   "cell_type": "markdown",
   "metadata": {},
   "source": [
    "## 损失函数"
   ]
  },
  {
   "cell_type": "code",
   "execution_count": 12,
   "metadata": {},
   "outputs": [
    {
     "name": "stdout",
     "output_type": "stream",
     "text": [
      "__________________________________________________________________________________________________\n",
      "Layer (type)                    Output Shape         Param #     Connected to                     \n",
      "==================================================================================================\n",
      "input_1 (InputLayer)            (None, 28, 28, 1)    0                                            \n",
      "__________________________________________________________________________________________________\n",
      "conv2d_transpose_1 (Conv2DTrans (None, 56, 56, 32)   320         input_1[0][0]                    \n",
      "__________________________________________________________________________________________________\n",
      "max_pooling2d_1 (MaxPooling2D)  (None, 28, 28, 32)   0           conv2d_transpose_1[0][0]         \n",
      "__________________________________________________________________________________________________\n",
      "elu_1 (ELU)                     (None, 28, 28, 32)   0           max_pooling2d_1[0][0]            \n",
      "__________________________________________________________________________________________________\n",
      "conv2d_transpose_2 (Conv2DTrans (None, 28, 28, 32)   9248        elu_1[0][0]                      \n",
      "__________________________________________________________________________________________________\n",
      "max_pooling2d_2 (MaxPooling2D)  (None, 14, 14, 32)   0           conv2d_transpose_2[0][0]         \n",
      "__________________________________________________________________________________________________\n",
      "elu_2 (ELU)                     (None, 14, 14, 32)   0           max_pooling2d_2[0][0]            \n",
      "__________________________________________________________________________________________________\n",
      "conv2d_transpose_3 (Conv2DTrans (None, 28, 28, 16)   4624        elu_2[0][0]                      \n",
      "__________________________________________________________________________________________________\n",
      "max_pooling2d_3 (MaxPooling2D)  (None, 14, 14, 16)   0           conv2d_transpose_3[0][0]         \n",
      "__________________________________________________________________________________________________\n",
      "elu_3 (ELU)                     (None, 14, 14, 16)   0           max_pooling2d_3[0][0]            \n",
      "__________________________________________________________________________________________________\n",
      "conv2d_transpose_4 (Conv2DTrans (None, 14, 14, 16)   2320        elu_3[0][0]                      \n",
      "__________________________________________________________________________________________________\n",
      "max_pooling2d_4 (MaxPooling2D)  (None, 7, 7, 16)     0           conv2d_transpose_4[0][0]         \n",
      "__________________________________________________________________________________________________\n",
      "elu_4 (ELU)                     (None, 7, 7, 16)     0           max_pooling2d_4[0][0]            \n",
      "__________________________________________________________________________________________________\n",
      "elu_5 (ELU)                     (None, 7, 7, 16)     0           elu_4[0][0]                      \n",
      "__________________________________________________________________________________________________\n",
      "flatten_1 (Flatten)             (None, 784)          0           elu_5[0][0]                      \n",
      "__________________________________________________________________________________________________\n",
      "dense_1 (Dense)                 (None, 10)           7850        flatten_1[0][0]                  \n",
      "__________________________________________________________________________________________________\n",
      "dense_2 (Dense)                 (None, 10)           7850        flatten_1[0][0]                  \n",
      "__________________________________________________________________________________________________\n",
      "lambda_1 (Lambda)               (None, 10)           0           dense_1[0][0]                    \n",
      "                                                                 dense_2[0][0]                    \n",
      "__________________________________________________________________________________________________\n",
      "model_2 (Model)                 (None, 28, 28, 1)    29601       lambda_1[0][0]                   \n",
      "__________________________________________________________________________________________________\n",
      "gaussian_1 (Gaussian)           (None, 10, 10)       100         lambda_1[0][0]                   \n",
      "__________________________________________________________________________________________________\n",
      "model_3 (Model)                 (None, 10)           5386        lambda_1[0][0]                   \n",
      "==================================================================================================\n",
      "Total params: 67,299\n",
      "Trainable params: 67,299\n",
      "Non-trainable params: 0\n",
      "__________________________________________________________________________________________________\n"
     ]
    },
    {
     "ename": "ValueError",
     "evalue": "('Error when checking model target: expected no data, but got:', array([5, 0, 4, ..., 5, 6, 8], dtype=uint8))",
     "output_type": "error",
     "traceback": [
      "\u001b[1;31m---------------------------------------------------------------------------\u001b[0m",
      "\u001b[1;31mValueError\u001b[0m                                Traceback (most recent call last)",
      "\u001b[1;32m<ipython-input-12-5de3154cec91>\u001b[0m in \u001b[0;36m<module>\u001b[1;34m\u001b[0m\n\u001b[0;32m     21\u001b[0m \u001b[0mvae\u001b[0m\u001b[1;33m.\u001b[0m\u001b[0mcompile\u001b[0m\u001b[1;33m(\u001b[0m\u001b[0moptimizer\u001b[0m\u001b[1;33m=\u001b[0m\u001b[1;34m'adam'\u001b[0m\u001b[1;33m)\u001b[0m\u001b[1;33m\u001b[0m\u001b[1;33m\u001b[0m\u001b[0m\n\u001b[0;32m     22\u001b[0m \u001b[0mvae\u001b[0m\u001b[1;33m.\u001b[0m\u001b[0msummary\u001b[0m\u001b[1;33m(\u001b[0m\u001b[1;33m)\u001b[0m\u001b[1;33m\u001b[0m\u001b[1;33m\u001b[0m\u001b[0m\n\u001b[1;32m---> 23\u001b[1;33m \u001b[0mvae\u001b[0m\u001b[1;33m.\u001b[0m\u001b[0mfit\u001b[0m\u001b[1;33m(\u001b[0m\u001b[0mx_train\u001b[0m\u001b[1;33m,\u001b[0m\u001b[0my_train_\u001b[0m\u001b[1;33m,\u001b[0m\u001b[0mshuffle\u001b[0m\u001b[1;33m=\u001b[0m\u001b[1;32mTrue\u001b[0m\u001b[1;33m,\u001b[0m\u001b[0mepochs\u001b[0m\u001b[1;33m=\u001b[0m\u001b[0mepochs\u001b[0m\u001b[1;33m,\u001b[0m\u001b[0mbatch_size\u001b[0m\u001b[1;33m=\u001b[0m\u001b[0mbatch_size\u001b[0m\u001b[1;33m,\u001b[0m\u001b[0mvalidation_data\u001b[0m\u001b[1;33m=\u001b[0m\u001b[1;33m(\u001b[0m\u001b[0mx_test\u001b[0m\u001b[1;33m,\u001b[0m \u001b[1;32mNone\u001b[0m\u001b[1;33m)\u001b[0m\u001b[1;33m,\u001b[0m\u001b[0mverbose\u001b[0m\u001b[1;33m=\u001b[0m\u001b[1;36m2\u001b[0m\u001b[1;33m)\u001b[0m\u001b[1;33m\u001b[0m\u001b[1;33m\u001b[0m\u001b[0m\n\u001b[0m\u001b[0;32m     24\u001b[0m \u001b[0mplot_model\u001b[0m\u001b[1;33m(\u001b[0m\u001b[0mmodel\u001b[0m\u001b[1;33m=\u001b[0m\u001b[0mvae\u001b[0m\u001b[1;33m,\u001b[0m \u001b[0mto_file\u001b[0m\u001b[1;33m=\u001b[0m\u001b[1;34m'vae_keras_cluster.png'\u001b[0m\u001b[1;33m,\u001b[0m \u001b[0mshow_shapes\u001b[0m\u001b[1;33m=\u001b[0m\u001b[1;32mTrue\u001b[0m\u001b[1;33m)\u001b[0m\u001b[1;33m\u001b[0m\u001b[1;33m\u001b[0m\u001b[0m\n",
      "\u001b[1;32mD:\\app\\anaconda20183\\lib\\site-packages\\keras\\engine\\training.py\u001b[0m in \u001b[0;36mfit\u001b[1;34m(self, x, y, batch_size, epochs, verbose, callbacks, validation_split, validation_data, shuffle, class_weight, sample_weight, initial_epoch, steps_per_epoch, validation_steps, **kwargs)\u001b[0m\n\u001b[0;32m    950\u001b[0m             \u001b[0msample_weight\u001b[0m\u001b[1;33m=\u001b[0m\u001b[0msample_weight\u001b[0m\u001b[1;33m,\u001b[0m\u001b[1;33m\u001b[0m\u001b[1;33m\u001b[0m\u001b[0m\n\u001b[0;32m    951\u001b[0m             \u001b[0mclass_weight\u001b[0m\u001b[1;33m=\u001b[0m\u001b[0mclass_weight\u001b[0m\u001b[1;33m,\u001b[0m\u001b[1;33m\u001b[0m\u001b[1;33m\u001b[0m\u001b[0m\n\u001b[1;32m--> 952\u001b[1;33m             batch_size=batch_size)\n\u001b[0m\u001b[0;32m    953\u001b[0m         \u001b[1;31m# Prepare validation data.\u001b[0m\u001b[1;33m\u001b[0m\u001b[1;33m\u001b[0m\u001b[1;33m\u001b[0m\u001b[0m\n\u001b[0;32m    954\u001b[0m         \u001b[0mdo_validation\u001b[0m \u001b[1;33m=\u001b[0m \u001b[1;32mFalse\u001b[0m\u001b[1;33m\u001b[0m\u001b[1;33m\u001b[0m\u001b[0m\n",
      "\u001b[1;32mD:\\app\\anaconda20183\\lib\\site-packages\\keras\\engine\\training.py\u001b[0m in \u001b[0;36m_standardize_user_data\u001b[1;34m(self, x, y, sample_weight, class_weight, check_array_lengths, batch_size)\u001b[0m\n\u001b[0;32m    787\u001b[0m                 \u001b[0mfeed_output_shapes\u001b[0m\u001b[1;33m,\u001b[0m\u001b[1;33m\u001b[0m\u001b[1;33m\u001b[0m\u001b[0m\n\u001b[0;32m    788\u001b[0m                 \u001b[0mcheck_batch_axis\u001b[0m\u001b[1;33m=\u001b[0m\u001b[1;32mFalse\u001b[0m\u001b[1;33m,\u001b[0m  \u001b[1;31m# Don't enforce the batch size.\u001b[0m\u001b[1;33m\u001b[0m\u001b[1;33m\u001b[0m\u001b[0m\n\u001b[1;32m--> 789\u001b[1;33m                 exception_prefix='target')\n\u001b[0m\u001b[0;32m    790\u001b[0m \u001b[1;33m\u001b[0m\u001b[0m\n\u001b[0;32m    791\u001b[0m             \u001b[1;31m# Generate sample-wise weight values given the `sample_weight` and\u001b[0m\u001b[1;33m\u001b[0m\u001b[1;33m\u001b[0m\u001b[1;33m\u001b[0m\u001b[0m\n",
      "\u001b[1;32mD:\\app\\anaconda20183\\lib\\site-packages\\keras\\engine\\training_utils.py\u001b[0m in \u001b[0;36mstandardize_input_data\u001b[1;34m(data, names, shapes, check_batch_axis, exception_prefix)\u001b[0m\n\u001b[0;32m     61\u001b[0m             raise ValueError('Error when checking model ' +\n\u001b[0;32m     62\u001b[0m                              \u001b[0mexception_prefix\u001b[0m \u001b[1;33m+\u001b[0m \u001b[1;34m': '\u001b[0m\u001b[1;33m\u001b[0m\u001b[1;33m\u001b[0m\u001b[0m\n\u001b[1;32m---> 63\u001b[1;33m                              'expected no data, but got:', data)\n\u001b[0m\u001b[0;32m     64\u001b[0m         \u001b[1;32mreturn\u001b[0m \u001b[1;33m[\u001b[0m\u001b[1;33m]\u001b[0m\u001b[1;33m\u001b[0m\u001b[1;33m\u001b[0m\u001b[0m\n\u001b[0;32m     65\u001b[0m     \u001b[1;32mif\u001b[0m \u001b[0mdata\u001b[0m \u001b[1;32mis\u001b[0m \u001b[1;32mNone\u001b[0m\u001b[1;33m:\u001b[0m\u001b[1;33m\u001b[0m\u001b[1;33m\u001b[0m\u001b[0m\n",
      "\u001b[1;31mValueError\u001b[0m: ('Error when checking model target: expected no data, but got:', array([5, 0, 4, ..., 5, 6, 8], dtype=uint8))"
     ]
    }
   ],
   "source": [
    "gaussian = Gaussian(num_classes)\n",
    "z_prior_mean = gaussian(z)\n",
    "\n",
    "\n",
    "# 建立模型\n",
    "vae = Model(x, [x_recon, z_prior_mean, y])\n",
    "\n",
    "# 下面一大通都是为了定义loss\n",
    "z_mean = K.expand_dims(z_mean, 1)\n",
    "z_log_var = K.expand_dims(z_log_var, 1)\n",
    "\n",
    "lamb = 2.5 # 这是重构误差的权重，它的相反数就是重构方差，越大意味着方差越小。\n",
    "xent_loss = 0.5 * K.mean((x - x_recon)**2, 0)\n",
    "kl_loss = - 0.5 * (z_log_var - K.square(z_prior_mean))\n",
    "kl_loss = K.mean(K.batch_dot(K.expand_dims(y, 1), kl_loss), 0)\n",
    "cat_loss = K.mean(y * K.log(y + K.epsilon()), 0)\n",
    "vae_loss = lamb * K.sum(xent_loss) + K.sum(kl_loss) + K.sum(cat_loss)\n",
    "\n",
    "\n",
    "vae.add_loss(vae_loss)\n",
    "vae.compile(optimizer='adam')\n",
    "vae.summary()\n",
    "vae.fit(x_train,shuffle=True,epochs=epochs,batch_size=batch_size,validation_data=(x_test, None),verbose=2)\n",
    "plot_model(model=vae, to_file='vae_keras_cluster.png', show_shapes=True)"
   ]
  },
  {
   "cell_type": "code",
   "execution_count": null,
   "metadata": {},
   "outputs": [],
   "source": [
    "from sklearn.preprocessing import LabelBinarizer\n",
    "from keras.utils import to_categorical\n",
    " \n",
    "labels = y_test_\n",
    "lb = LabelBinarizer()\n",
    "labels = lb.fit_transform(labels) # transfer label to binary value\n",
    "labels = to_categorical(labels) # transfer binary label to one-hot. IMPORTANT\n",
    "score = vae.evaluate(x=x_test,y=labels, batch_size=128)\n",
    "# y_test_.shape\n",
    "score"
   ]
  },
  {
   "cell_type": "code",
   "execution_count": null,
   "metadata": {},
   "outputs": [],
   "source": [
    "means = K.eval(gaussian.mean)\n",
    "x_train_encoded = encoder.predict(x_train)\n",
    "y_train_pred = classfier.predict(x_train_encoded).argmax(axis=1)\n",
    "x_test_encoded = encoder.predict(x_test)\n",
    "y_test_pred = classfier.predict(x_test_encoded).argmax(axis=1)"
   ]
  },
  {
   "cell_type": "markdown",
   "metadata": {},
   "source": [
    "## 聚类作图"
   ]
  },
  {
   "cell_type": "code",
   "execution_count": null,
   "metadata": {},
   "outputs": [],
   "source": [
    "def cluster_sample(path, category=0):\n",
    "    \"\"\"观察被模型聚为同一类的样本\n",
    "    \"\"\"\n",
    "    n = 8\n",
    "    print('*'*50)\n",
    "    figure = np.zeros((img_dim * n, img_dim * n))\n",
    "    idxs = np.where(y_train_pred == category)[0]\n",
    "    print(idxs.shape)\n",
    "    print('*'*50)\n",
    "    for i in range(n):\n",
    "        for j in range(n):\n",
    "            digit = x_train[np.random.choice(idxs)]\n",
    "            digit = digit.reshape((img_dim, img_dim))\n",
    "            figure[i * img_dim: (i + 1) * img_dim,\n",
    "            j * img_dim: (j + 1) * img_dim] = digit\n",
    "    imageio.imwrite(path, figure * 255)\n",
    "\n",
    "\n",
    "def random_sample(path, category=0, std=1):\n",
    "    \"\"\"按照聚类结果进行条件随机生成\n",
    "    \"\"\"\n",
    "    n = 8\n",
    "    figure = np.zeros((img_dim * n, img_dim * n))\n",
    "    for i in range(n):\n",
    "        for j in range(n):\n",
    "            noise_shape = (1, latent_dim)\n",
    "            z_sample = np.array(np.random.randn(*noise_shape)) * std + means[category]\n",
    "#             通过随机生成z_sample，解码x_recon\n",
    "            x_recon = generator.predict(z_sample)\n",
    "            digit = x_recon[0].reshape((img_dim, img_dim))\n",
    "            figure[i * img_dim: (i + 1) * img_dim,\n",
    "            j * img_dim: (j + 1) * img_dim] = digit\n",
    "    imageio.imwrite(path, figure * 255)"
   ]
  },
  {
   "cell_type": "code",
   "execution_count": null,
   "metadata": {},
   "outputs": [],
   "source": [
    "if not os.path.exists('samples'):\n",
    "    os.mkdir('samples')\n",
    "\n",
    "for i in range(10):\n",
    "    cluster_sample(u'samples/聚类类别_%s.png' % i, i)\n",
    "    random_sample(u'samples/类别采样_%s.png' % i, i)\n",
    "    \n",
    "right = 0.\n",
    "for i in range(10):\n",
    "    print('%'*50)\n",
    "    print(y_train_)\n",
    "    print('%'*50)\n",
    "    _ = np.bincount(y_train_[y_train_pred == i])\n",
    "    right += _.max()\n",
    "\n",
    "print ('train acc: %s' % (right / len(y_train_)))\n",
    "\n",
    "\n",
    "right = 0.\n",
    "for i in range(10):\n",
    "    _ = np.bincount(y_test_[y_test_pred == i])\n",
    "    right += _.max()\n",
    "\n",
    "print ('test acc: %s' % (right / len(y_test_)))"
   ]
  }
 ],
 "metadata": {
  "kernelspec": {
   "display_name": "Python 3",
   "language": "python",
   "name": "python3"
  },
  "language_info": {
   "codemirror_mode": {
    "name": "ipython",
    "version": 3
   },
   "file_extension": ".py",
   "mimetype": "text/x-python",
   "name": "python",
   "nbconvert_exporter": "python",
   "pygments_lexer": "ipython3",
   "version": "3.6.8"
  }
 },
 "nbformat": 4,
 "nbformat_minor": 2
}
